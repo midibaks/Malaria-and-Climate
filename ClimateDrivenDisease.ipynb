{
  "nbformat": 4,
  "nbformat_minor": 0,
  "metadata": {
    "colab": {
      "provenance": [],
      "authorship_tag": "ABX9TyNxLxujuG3lWWuCV8bMDOhM",
      "include_colab_link": true
    },
    "kernelspec": {
      "name": "python3",
      "display_name": "Python 3"
    },
    "language_info": {
      "name": "python"
    }
  },
  "cells": [
    {
      "cell_type": "markdown",
      "metadata": {
        "id": "view-in-github",
        "colab_type": "text"
      },
      "source": [
        "<a href=\"https://colab.research.google.com/github/midibaks/Malaria-and-Climate/blob/main/ClimateDrivenDisease.ipynb\" target=\"_parent\"><img src=\"https://colab.research.google.com/assets/colab-badge.svg\" alt=\"Open In Colab\"/></a>"
      ]
    },
    {
      "cell_type": "code",
      "execution_count": 32,
      "metadata": {
        "colab": {
          "base_uri": "https://localhost:8080/"
        },
        "id": "0vuyZcp3EQDd",
        "outputId": "4a387cdd-f274-4422-a742-ca2d583b8c9f"
      },
      "outputs": [
        {
          "output_type": "stream",
          "name": "stdout",
          "text": [
            "44.83254234147334\n",
            "[114.42  81.06  45.03  78.9   42.81]\n"
          ]
        }
      ],
      "source": [
        "import pandas as pd\n",
        "import numpy as np\n",
        "from sklearn.impute import KNNImputer\n",
        "from sklearn.preprocessing import OneHotEncoder, MaxAbsScaler\n",
        "from sklearn.compose import make_column_transformer\n",
        "from sklearn.ensemble import RandomForestRegressor\n",
        "from sklearn.model_selection import train_test_split, GridSearchCV\n",
        "from sklearn.pipeline import make_pipeline\n",
        "from sklearn.metrics import mean_squared_error\n",
        "\n",
        "df = pd.read_csv('climate_disease_dataset.csv')\n",
        "\n",
        "X, y = df.drop(columns=['malaria_cases', 'dengue_cases']).iloc[:2000], df['malaria_cases'].iloc[:2000]\n",
        "\n",
        "X_train, X_test, y_train, y_test = train_test_split(X, y, random_state=42)\n",
        "ct = make_column_transformer((OneHotEncoder(), ['country', 'region']), remainder='passthrough')\n",
        "\n",
        "regressor = RandomForestRegressor(random_state=42)\n",
        "pipe = make_pipeline(ct, KNNImputer(n_neighbors=10), MaxAbsScaler(), regressor)\n",
        "pipe.fit(X_train, y_train)\n",
        "\n",
        "param_grid = {'randomforestregressor__max_depth': [3, 5, 7, 9]}\n",
        "\n",
        "grid_search = GridSearchCV(pipe, param_grid, cv=5, error_score='raise')\n",
        "\n",
        "grid_search.fit(X_train, y_train)\n",
        "\n",
        "y_pred = pipe.predict(X_test)\n",
        "\n",
        "print(np.sqrt(mean_squared_error(y_test, y_pred)))\n",
        "\n",
        "print(y_pred[:5])\n",
        "\n"
      ]
    }
  ]
}